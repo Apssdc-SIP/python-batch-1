{
 "cells": [
  {
   "cell_type": "code",
   "execution_count": null,
   "metadata": {},
   "outputs": [],
   "source": []
  },
  {
   "cell_type": "markdown",
   "metadata": {},
   "source": [
    "### Task\n",
    "\n",
    "1.Write a python program to find the second largest number in a list.\n",
    "input: 12 34 5 6 67 8\n",
    "output: 34\n",
    "\n",
    "2.Write a program to find the k th smallest number in a list.\n",
    "input:\n",
    "12 34 23 67 8\n",
    "3\n",
    "output:\n",
    "23"
   ]
  },
  {
   "cell_type": "code",
   "execution_count": 3,
   "metadata": {},
   "outputs": [
    {
     "name": "stdout",
     "output_type": "stream",
     "text": [
      "1 2 3 4 5\n"
     ]
    },
    {
     "data": {
      "text/plain": [
       "4"
      ]
     },
     "execution_count": 3,
     "metadata": {},
     "output_type": "execute_result"
    }
   ],
   "source": [
    "x = list(map(int,input().split()))\n",
    "x.sort()\n",
    "x[-2]"
   ]
  },
  {
   "cell_type": "code",
   "execution_count": 9,
   "metadata": {},
   "outputs": [
    {
     "name": "stdout",
     "output_type": "stream",
     "text": [
      "12 34 5 6 39\n",
      "3\n"
     ]
    },
    {
     "data": {
      "text/plain": [
       "12"
      ]
     },
     "execution_count": 9,
     "metadata": {},
     "output_type": "execute_result"
    }
   ],
   "source": [
    "x = list(map(int,input().split()))\n",
    "k = int(input())\n",
    "x.sort()\n",
    "x[k-1]"
   ]
  },
  {
   "cell_type": "code",
   "execution_count": 7,
   "metadata": {},
   "outputs": [
    {
     "name": "stdout",
     "output_type": "stream",
     "text": [
      "1 2 3 4 5\n"
     ]
    },
    {
     "data": {
      "text/plain": [
       "[1, 2, 3, 4, 5]"
      ]
     },
     "execution_count": 7,
     "metadata": {},
     "output_type": "execute_result"
    }
   ],
   "source": [
    "x= input().split()\n",
    "list(map(int,x))"
   ]
  },
  {
   "cell_type": "markdown",
   "metadata": {},
   "source": [
    "<https://github.com/Apssdc-SIP/python-batch-1>\n",
    "\n",
    "<https://www.markdownguide.org/cheat-sheet/>\n",
    "\n",
    "<https://www.programiz.com/python-programming/keyword-list>\n",
    "\n",
    "<https://github.com/LavanyaPolamarasetty/Python_syllabus/tree/master/Python_Syllabus>\n",
    "\n",
    "<https://drive.google.com/drive/folders/13uNUuimsBqEW-cJo1o1TiHn4QJb0dHF-?usp=sharing>\n",
    "\n",
    "<https://docs.google.com/forms/d/e/1FAIpQLSd4It4XHYKh2elEW33x2eqYWpqGKpMiMpkw2WKV9zqchuP5Jw/viewform?usp=sf_link>"
   ]
  },
  {
   "cell_type": "code",
   "execution_count": 2,
   "metadata": {},
   "outputs": [
    {
     "name": "stderr",
     "output_type": "stream",
     "text": [
      "No handles with labels found to put in legend.\n"
     ]
    },
    {
     "data": {
      "image/png": "[encoded data removed]",
      "text/plain": [
       "<Figure size 432x288 with 1 Axes>"
      ]
     },
     "metadata": {
      "needs_background": "light"
     },
     "output_type": "display_data"
    }
   ],
   "source": [
    "import matplotlib.pyplot as plt\n",
    "import numpy as np\n",
    "x=np.array([1,2,3,4,5])\n",
    "plt.plot(x,x)\n",
    "plt.plot(x,x**2,color=\"r\")\n",
    "plt.legend()\n",
    "plt.show()"
   ]
  },
  {
   "cell_type": "code",
   "execution_count": null,
   "metadata": {},
   "outputs": [],
   "source": []
  }
 ],
 "metadata": {
  "kernelspec": {
   "display_name": "Python 3",
   "language": "python",
   "name": "python3"
  },
  "language_info": {
   "codemirror_mode": {
    "name": "ipython",
    "version": 3
   },
   "file_extension": ".py",
   "mimetype": "text/x-python",
   "name": "python",
   "nbconvert_exporter": "python",
   "pygments_lexer": "ipython3",
   "version": "3.8.3"
  }
 },
 "nbformat": 4,
 "nbformat_minor": 4
}
