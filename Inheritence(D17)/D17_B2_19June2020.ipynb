{
 "cells": [
  {
   "cell_type": "markdown",
   "metadata": {},
   "source": [
    "# Python Inheritance\n",
    "\n",
    "         * Inheritance enables us to define a class that takes all the functionality from a parent class and \n",
    "           allows us to add more\n",
    "         * It refers to defining a new class with little or no modification to an existing class\n",
    "         * New class is called derived (or child) class \n",
    "         * One from which it inherits is called the base (or parent) class\n",
    "         \n",
    "#### The benefits of inheritance :\n",
    "         * It provides re-usability of a code\n",
    "         * it allows us to add more features to a class without modifying it\n",
    "         * It is transitive in nature\n",
    "         * if class B inherits from another class A, then all the subclasses of B would automatically \n",
    "           inherit from class A.\n",
    "                  \n",
    "![](inheritence.jpg)\n",
    "\n",
    "\n",
    "\n",
    "#### Advantages:\n",
    "    * Application development time is less.\n",
    "    * Application take less memory.\n",
    "    * Application execution time is less.\n",
    "\n",
    "```Syntax```"
   ]
  },
  {
   "cell_type": "code",
   "execution_count": null,
   "metadata": {},
   "outputs": [],
   "source": [
    "class BaseClass:\n",
    "      Body of base class\n",
    "class DerivedClass(BaseClass):\n",
    "      Body of derived class"
   ]
  },
  {
   "cell_type": "markdown",
   "metadata": {},
   "source": [
    "# Single level Inheritence\n",
    "#### When a child class inherits from only one parent class, it is called single inheritance\n",
    "\n",
    "![](single.png)"
   ]
  },
  {
   "cell_type": "code",
   "execution_count": 8,
   "metadata": {},
   "outputs": [
    {
     "name": "stdout",
     "output_type": "stream",
     "text": [
      "Hi all\n",
      "All is Well\n"
     ]
    }
   ],
   "source": [
    "class baseClass:\n",
    "    def A():\n",
    "        print(\"Hi all\")\n",
    "        \n",
    "class childClass(baseClass):\n",
    "    def B():\n",
    "        print(\"All is Well\")\n",
    "        \n",
    "        \n",
    "obj = baseClass\n",
    "#obj.A()\n",
    "\n",
    "child_obj = childClass\n",
    "child_obj.A()\n",
    "child_obj.B()"
   ]
  },
  {
   "cell_type": "code",
   "execution_count": 13,
   "metadata": {
    "collapsed": true
   },
   "outputs": [
    {
     "name": "stdout",
     "output_type": "stream",
     "text": [
      "I am in superclass and my name is  MerC\n"
     ]
    },
    {
     "ename": "AttributeError",
     "evalue": "'superClass' object has no attribute 'data'",
     "output_type": "error",
     "traceback": [
      "\u001b[1;31m---------------------------------------------------------------------------\u001b[0m",
      "\u001b[1;31mAttributeError\u001b[0m                            Traceback (most recent call last)",
      "\u001b[1;32m<ipython-input-13-e9b6141f1485>\u001b[0m in \u001b[0;36m<module>\u001b[1;34m\u001b[0m\n\u001b[0;32m     11\u001b[0m \u001b[0mobj\u001b[0m \u001b[1;33m=\u001b[0m \u001b[0msuperClass\u001b[0m\u001b[1;33m(\u001b[0m\u001b[1;33m)\u001b[0m\u001b[1;33m\u001b[0m\u001b[1;33m\u001b[0m\u001b[0m\n\u001b[0;32m     12\u001b[0m \u001b[0mobj\u001b[0m\u001b[1;33m.\u001b[0m\u001b[0mgetName\u001b[0m\u001b[1;33m(\u001b[0m\u001b[1;33m)\u001b[0m\u001b[1;33m\u001b[0m\u001b[1;33m\u001b[0m\u001b[0m\n\u001b[1;32m---> 13\u001b[1;33m \u001b[0mobj\u001b[0m\u001b[1;33m.\u001b[0m\u001b[0mdata\u001b[0m\u001b[1;33m(\u001b[0m\u001b[1;33m)\u001b[0m\u001b[1;33m\u001b[0m\u001b[1;33m\u001b[0m\u001b[0m\n\u001b[0m",
      "\u001b[1;31mAttributeError\u001b[0m: 'superClass' object has no attribute 'data'"
     ]
    }
   ],
   "source": [
    "class superClass:\n",
    "    def __init__(self):\n",
    "        self.name = \"MerC\"\n",
    "    def getName(self):\n",
    "        print(\"I am in superclass and my name is \",self.name)\n",
    "        \n",
    "class derivedClass(superClass):\n",
    "    def data(self):\n",
    "        print(\"I am in derived Class and i am from {0} class {1}\".format(self.name,self.name))\n",
    "        \n",
    "obj = superClass()\n",
    "obj.getName()\n",
    "obj.data()"
   ]
  },
  {
   "cell_type": "code",
   "execution_count": null,
   "metadata": {},
   "outputs": [],
   "source": []
  },
  {
   "cell_type": "code",
   "execution_count": null,
   "metadata": {},
   "outputs": [],
   "source": []
  },
  {
   "cell_type": "markdown",
   "metadata": {},
   "source": [
    "# One to Many inheritence\n",
    "\n",
    "#### one parent class and more than one child classes, is called one to many inheritence"
   ]
  },
  {
   "cell_type": "code",
   "execution_count": 14,
   "metadata": {},
   "outputs": [
    {
     "name": "stdout",
     "output_type": "stream",
     "text": [
      "My project name IOT System\n"
     ]
    }
   ],
   "source": [
    "class ProjectLead:\n",
    "    def __init__(self):\n",
    "        self.project_name = \"IOT\"\n",
    "        self.pages = 200\n",
    "        self.boards = 3\n",
    "        \n",
    "class user1(ProjectLead):\n",
    "    def project1(self):\n",
    "        print(\"My project name {0} System\".format(self.project_name))\n",
    "        \n",
    "        \n",
    "class user2(ProjectLead):\n",
    "    def project2(self):\n",
    "        print(\"My Project have \",self.pages+50)\n",
    "        \n",
    "\n",
    "obj = user1()\n",
    "obj.project1()\n",
    "        "
   ]
  },
  {
   "cell_type": "code",
   "execution_count": 15,
   "metadata": {},
   "outputs": [
    {
     "name": "stdout",
     "output_type": "stream",
     "text": [
      "My Project have  250\n"
     ]
    }
   ],
   "source": [
    "obj = user2()\n",
    "obj.project2()"
   ]
  },
  {
   "cell_type": "code",
   "execution_count": 17,
   "metadata": {},
   "outputs": [],
   "source": [
    "class trainer:\n",
    "    def __init__(self):\n",
    "        self.meet_id = 794550549\n",
    "        "
   ]
  },
  {
   "cell_type": "code",
   "execution_count": 20,
   "metadata": {},
   "outputs": [
    {
     "name": "stdout",
     "output_type": "stream",
     "text": [
      "Meeting id is  794550549\n"
     ]
    }
   ],
   "source": [
    "class aparna(trainer):\n",
    "    def getMeetID(self):\n",
    "        print(\"Meeting id is \",self.meet_id)\n",
    "        \n",
    "obj = aparna()\n",
    "obj.getMeetID()"
   ]
  },
  {
   "cell_type": "code",
   "execution_count": 22,
   "metadata": {},
   "outputs": [
    {
     "name": "stdout",
     "output_type": "stream",
     "text": [
      "Meeting Id is 794550549Lavanya\n"
     ]
    }
   ],
   "source": [
    "class student(trainer):\n",
    "    def meetId(self):\n",
    "        print(\"Meeting Id is {0}Lavanya\".format(self.meet_id))\n",
    "        \n",
    "obj = student()\n",
    "obj.meetId()"
   ]
  },
  {
   "cell_type": "code",
   "execution_count": null,
   "metadata": {},
   "outputs": [],
   "source": []
  },
  {
   "cell_type": "code",
   "execution_count": null,
   "metadata": {},
   "outputs": [],
   "source": []
  },
  {
   "cell_type": "code",
   "execution_count": null,
   "metadata": {},
   "outputs": [],
   "source": []
  },
  {
   "cell_type": "markdown",
   "metadata": {},
   "source": [
    "# Multiple Inheritence\n",
    "\n",
    "####  more than one parent class and only one child class\n",
    "\n",
    "![](multi.png)"
   ]
  },
  {
   "cell_type": "code",
   "execution_count": 33,
   "metadata": {},
   "outputs": [],
   "source": [
    "class TCS:\n",
    "    def __init__(self):\n",
    "        self.salary = 200000\n",
    "class Wipro:\n",
    "    def __init__(self):\n",
    "        self.accomidation = 10000\n",
    "        \n",
    "class employee(TCS,Wipro):\n",
    "    def __init__(self):\n",
    "        TCS.__init__(self)\n",
    "        Wipro.__init__(self)\n",
    "        \n",
    "    def biodata(self):\n",
    "        print(\"My salary is {0} and aacomidation per month is {1} by Wipro\".format(self.salary,self.accomidation))\n",
    "    "
   ]
  },
  {
   "cell_type": "code",
   "execution_count": 34,
   "metadata": {},
   "outputs": [
    {
     "name": "stdout",
     "output_type": "stream",
     "text": [
      "My salary is 200000 and aacomidation per month is 10000 by Wipro\n"
     ]
    }
   ],
   "source": [
    "obj = employee()\n",
    "obj.biodata()"
   ]
  },
  {
   "cell_type": "markdown",
   "metadata": {},
   "source": [
    "# Task"
   ]
  },
  {
   "cell_type": "code",
   "execution_count": null,
   "metadata": {},
   "outputs": [],
   "source": [
    "# Create 2 super class and returns 6 didgit OTP ex : mail , phone\n",
    "# create 1 child class and return combination of both OTP\n"
   ]
  },
  {
   "cell_type": "code",
   "execution_count": 42,
   "metadata": {},
   "outputs": [
    {
     "name": "stdout",
     "output_type": "stream",
     "text": [
      "206943\n"
     ]
    }
   ],
   "source": [
    "import random as r\n",
    "def OTP():\n",
    "    s = \"\"\n",
    "    for i in range(6):\n",
    "        s += str(r.randint(0,9))\n",
    "    print(s)\n",
    "        \n",
    "OTP()        "
   ]
  },
  {
   "cell_type": "code",
   "execution_count": 47,
   "metadata": {},
   "outputs": [
    {
     "name": "stdout",
     "output_type": "stream",
     "text": [
      "598007\n"
     ]
    }
   ],
   "source": [
    "import random as r\n",
    "def OTP():\n",
    "        s =\"\"\n",
    "        for i in range(6):\n",
    "            s += str(r.randint(0,9))\n",
    "        print(s)\n",
    "OTP()"
   ]
  },
  {
   "cell_type": "code",
   "execution_count": 78,
   "metadata": {},
   "outputs": [
    {
     "name": "stdout",
     "output_type": "stream",
     "text": [
      "569416\n"
     ]
    }
   ],
   "source": [
    "import random as r\n",
    "def OTP():\n",
    "        s = \"\"\n",
    "        for i in range(6):\n",
    "            s += str(r.randint(0,9))\n",
    "        print(s)\n",
    "OTP()"
   ]
  },
  {
   "cell_type": "code",
   "execution_count": 81,
   "metadata": {},
   "outputs": [
    {
     "name": "stdout",
     "output_type": "stream",
     "text": [
      "Mail otp is 444253 and phone otp is 036860 \n"
     ]
    }
   ],
   "source": [
    "import random as r\n",
    "class mail:\n",
    "    def __init__(self):\n",
    "        s=\"\"\n",
    "        for i in range(6):\n",
    "            s+=str(r.randint(0,9))\n",
    "        self.s=s\n",
    "class phone:\n",
    "    def __init__(self):\n",
    "        s2=\"\"\n",
    "        for i in range(6):\n",
    "            s2+=str(r.randint(0,9))\n",
    "        self.s2=s2\n",
    "        \n",
    "class data(mail,phone):\n",
    "    def __init__(self):\n",
    "        mail.__init__(self)\n",
    "        phone.__init__(self)\n",
    "        \n",
    "    def otp(self):\n",
    "        print(\"Mail otp is {0} and phone otp is {1} \".format(self.s,self.s2))\n",
    "obj=data()\n",
    "obj.otp()"
   ]
  },
  {
   "cell_type": "code",
   "execution_count": 43,
   "metadata": {},
   "outputs": [
    {
     "name": "stdout",
     "output_type": "stream",
     "text": [
      "My mail OTP is: 605434 and my mobile OTP is: 792721\n"
     ]
    }
   ],
   "source": [
    "import random as r\n",
    "\n",
    "class mail:\n",
    "    def __init__(self):\n",
    "        self.OTP1=r.randint(100000,999999)\n",
    "class mobile:\n",
    "    def __init__(self):\n",
    "        self.OTP2=r.randint(100000,999999)\n",
    "class You(mail,mobile):\n",
    "    def __init__(self):\n",
    "        mail.__init__(self)\n",
    "        mobile.__init__(self)\n",
    "    def OTPs(self):\n",
    "        print(\"My mail OTP is: {0} and my mobile OTP is: {1}\".format(self.OTP1,self.OTP2))\n",
    "obj=You()\n",
    "obj.OTPs()"
   ]
  },
  {
   "cell_type": "markdown",
   "metadata": {},
   "source": [
    "# Multilevel Inheritence\n",
    "\n",
    "####  Have grandParent, parent and  child relationship\n",
    "####  When we have a child and grandchild relationship.\n",
    "\n",
    "![](multilevel.jpg)"
   ]
  },
  {
   "cell_type": "code",
   "execution_count": 69,
   "metadata": {},
   "outputs": [],
   "source": [
    "class grandFather:\n",
    "    def __init__(self):\n",
    "        self.asserts = 1000000\n",
    "        \n",
    "class Father(grandFather):\n",
    "    def __init__(self):\n",
    "        grandFather.__init__(self)\n",
    "        self.initial = \"Polamarasetty\"\n",
    "        \n",
    "class child(Father):\n",
    "    def __init_(Self):\n",
    "        Father.__init__(Self)\n",
    "    def bio(self):\n",
    "        print(\"My  are {0} and my full name is {1} Lavanya\".format(self.asserts+500,self.initial))\n",
    "        "
   ]
  },
  {
   "cell_type": "code",
   "execution_count": 74,
   "metadata": {},
   "outputs": [
    {
     "data": {
      "text/plain": [
       "'100 and 200'"
      ]
     },
     "execution_count": 74,
     "metadata": {},
     "output_type": "execute_result"
    }
   ],
   "source": [
    "\"{0} and {1}\".format(100,200)"
   ]
  },
  {
   "cell_type": "code",
   "execution_count": 72,
   "metadata": {},
   "outputs": [
    {
     "name": "stdout",
     "output_type": "stream",
     "text": [
      "My  are 1000500 and my full name is Polamarasetty Lavanya\n"
     ]
    }
   ],
   "source": [
    "obj = child()\n",
    "obj.initial\n",
    "#bj.bio()\n",
    "obj.asserts\n",
    "obj.initial\n",
    "obj.bio()"
   ]
  },
  {
   "cell_type": "code",
   "execution_count": 64,
   "metadata": {},
   "outputs": [
    {
     "data": {
      "text/plain": [
       "<__main__.child at 0x1ffffe21908>"
      ]
     },
     "execution_count": 64,
     "metadata": {},
     "output_type": "execute_result"
    }
   ],
   "source": [
    "\n",
    "obj = child()\n",
    "obj"
   ]
  },
  {
   "cell_type": "code",
   "execution_count": null,
   "metadata": {},
   "outputs": [],
   "source": []
  },
  {
   "cell_type": "code",
   "execution_count": null,
   "metadata": {},
   "outputs": [],
   "source": []
  },
  {
   "cell_type": "code",
   "execution_count": null,
   "metadata": {},
   "outputs": [],
   "source": []
  },
  {
   "cell_type": "code",
   "execution_count": null,
   "metadata": {},
   "outputs": [],
   "source": []
  },
  {
   "cell_type": "code",
   "execution_count": null,
   "metadata": {},
   "outputs": [],
   "source": []
  },
  {
   "cell_type": "code",
   "execution_count": null,
   "metadata": {},
   "outputs": [],
   "source": []
  },
  {
   "cell_type": "markdown",
   "metadata": {},
   "source": [
    "# Task\n",
    "\n",
    "# Calculate sum of all numbers in your pin number \n",
    "\n",
    "\n",
    "##### Ex : 152Z1A0447\n",
    "\n",
    "#### do it"
   ]
  },
  {
   "cell_type": "code",
   "execution_count": 1,
   "metadata": {},
   "outputs": [
    {
     "name": "stdout",
     "output_type": "stream",
     "text": [
      "152Z1A0447\n",
      "sum of digits in pin =  24\n"
     ]
    }
   ],
   "source": [
    "n=input()\n",
    "c=0\n",
    "if len(n)==10:\n",
    "    for i in n:\n",
    "        if i.isdigit():\n",
    "            c=c+int(i)\n",
    "    print('sum of digits in pin = ',c)\n",
    "else:\n",
    "    print('please enter a valid reg no')\n"
   ]
  },
  {
   "cell_type": "code",
   "execution_count": null,
   "metadata": {},
   "outputs": [],
   "source": []
  }
 ],
 "metadata": {
  "kernelspec": {
   "display_name": "Python 3",
   "language": "python",
   "name": "python3"
  },
  "language_info": {
   "codemirror_mode": {
    "name": "ipython",
    "version": 3
   },
   "file_extension": ".py",
   "mimetype": "text/x-python",
   "name": "python",
   "nbconvert_exporter": "python",
   "pygments_lexer": "ipython3",
   "version": "3.7.3"
  }
 },
 "nbformat": 4,
 "nbformat_minor": 2
}
