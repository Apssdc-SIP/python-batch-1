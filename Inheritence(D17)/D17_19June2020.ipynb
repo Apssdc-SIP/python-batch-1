{
 "cells": [
  {
   "cell_type": "markdown",
   "metadata": {},
   "source": [
    "# Python Inheritance\n",
    "\n",
    "            * Inheritance enables us to define a class that takes all the functionality from a parent class and \n",
    "              allows us to add more\n",
    "            * It refers to defining a new class with little or no modification to an existing class\n",
    "            * New class is called derived (or child) class \n",
    "            * One from which it inherits is called the base (or parent) class\n",
    "#### The benefits of inheritance :\n",
    "            * It provides re-usability of a code\n",
    "            * it allows us to add more features to a class without modifying it\n",
    "            * It is transitive in nature\n",
    "                * if class B inherits from another class A, then all the subclasses of B would automatically \n",
    "                  inherit from class A.\n",
    "                  \n",
    "![](inheritence.jpg)\n",
    "\n",
    "\n",
    "\n",
    "#### Advantages:\n",
    "    * Application development time is less.\n",
    "    * Application take less memory.\n",
    "    * Application execution time is less.\n",
    "\n",
    "```Syntax```"
   ]
  },
  {
   "cell_type": "code",
   "execution_count": null,
   "metadata": {},
   "outputs": [],
   "source": [
    "class BaseClass:\n",
    "      Body of base class\n",
    "class DerivedClass(BaseClass):\n",
    "      Body of derived class"
   ]
  },
  {
   "cell_type": "markdown",
   "metadata": {},
   "source": [
    "# Single level Inheritence\n",
    "#### When a child class inherits from only one parent class, it is called single inheritance\n",
    "\n",
    "![](single.png)"
   ]
  },
  {
   "cell_type": "code",
   "execution_count": 12,
   "metadata": {},
   "outputs": [
    {
     "name": "stdout",
     "output_type": "stream",
     "text": [
      "Hello all\n",
      "Good Morning all\n"
     ]
    }
   ],
   "source": [
    "class superClass:\n",
    "    def classA():\n",
    "        print(\"Hello all\")\n",
    "\n",
    "class childClass(superClass):\n",
    "    def classB():\n",
    "        print(\"Good Morning all\")\n",
    "\n",
    "obj = childClass\n",
    "obj.classA()\n",
    "obj.classB()"
   ]
  },
  {
   "cell_type": "code",
   "execution_count": 10,
   "metadata": {},
   "outputs": [
    {
     "name": "stdout",
     "output_type": "stream",
     "text": [
      "Hi MerC ,How do you do? MerC\n",
      "My name is  MerC\n"
     ]
    }
   ],
   "source": [
    "class parentClass:\n",
    "    def __init__(self):\n",
    "        self.name = \"MerC\"\n",
    "        \n",
    "    def getName(self):\n",
    "        print(\"My name is \",self.name)\n",
    "        \n",
    "        \n",
    "class childClass(parentClass):\n",
    "    def printName(self):\n",
    "        print(\"Hi {0} ,How do you do? {1}\".format(self.name,self.name))\n",
    "              \n",
    "# obj = parentClass()\n",
    "# obj.getName()\n",
    "obj_child = childClass()\n",
    "obj_child.printName()\n",
    "obj_child.getName()"
   ]
  },
  {
   "cell_type": "code",
   "execution_count": null,
   "metadata": {},
   "outputs": [],
   "source": [
    "# Task\n",
    "# Create one super class with two attributes\n",
    "# create one child class and it returns sum of the given attributes"
   ]
  },
  {
   "cell_type": "markdown",
   "metadata": {},
   "source": [
    "# One to Many inheritence\n",
    "\n",
    "#### one parent class and more than one child classes, is called one to many inheritence"
   ]
  },
  {
   "cell_type": "code",
   "execution_count": 15,
   "metadata": {},
   "outputs": [],
   "source": [
    "class trainer:\n",
    "    def __init__(self):\n",
    "        self.meet_id  = 794550549\n",
    "        "
   ]
  },
  {
   "cell_type": "code",
   "execution_count": 16,
   "metadata": {},
   "outputs": [
    {
     "name": "stdout",
     "output_type": "stream",
     "text": [
      "Meet ID is :  794550549\n"
     ]
    }
   ],
   "source": [
    "class student(trainer):\n",
    "    def getMeetId(self):\n",
    "        print(\"Meet ID is : \",self.meet_id)\n",
    "        \n",
    "obj = student()\n",
    "obj.getMeetId()"
   ]
  },
  {
   "cell_type": "code",
   "execution_count": 18,
   "metadata": {},
   "outputs": [
    {
     "name": "stdout",
     "output_type": "stream",
     "text": [
      "My Meet Id is  794550559\n"
     ]
    }
   ],
   "source": [
    "class abhishekClass(trainer):\n",
    "    def needMeetId(self):\n",
    "        self.meet_id += 10\n",
    "        print(\"My Meet Id is \",self.meet_id)\n",
    "        \n",
    "obj = abhishekClass()\n",
    "obj.needMeetId()"
   ]
  },
  {
   "cell_type": "code",
   "execution_count": null,
   "metadata": {},
   "outputs": [],
   "source": []
  },
  {
   "cell_type": "code",
   "execution_count": null,
   "metadata": {},
   "outputs": [],
   "source": []
  },
  {
   "cell_type": "markdown",
   "metadata": {},
   "source": [
    "# Multiple Inheritence\n",
    "\n",
    "####  more than one parent class and only one child class\n",
    "\n",
    "![](multi.png)"
   ]
  },
  {
   "cell_type": "code",
   "execution_count": 72,
   "metadata": {},
   "outputs": [],
   "source": [
    "class father:\n",
    "    def __init__(self):\n",
    "        self.money =  1000\n",
    "class mother:\n",
    "    def __init__(self):\n",
    "        self.money = 500\n",
    "        \n",
    "class child(father,mother):\n",
    "    def __init__(self):\n",
    "        \n",
    "        father.__init__(self)\n",
    "        print(self.money)\n",
    "        self.r = self.money\n",
    "        print(self.r)\n",
    "        mother.__init__(self)\n",
    "        self.p = self.money\n",
    "        print(self.money)\n",
    "        \n",
    "    def income(self):\n",
    "        print(\"My income per month is \",self.p+self.r)\n",
    "        "
   ]
  },
  {
   "cell_type": "code",
   "execution_count": 73,
   "metadata": {},
   "outputs": [
    {
     "name": "stdout",
     "output_type": "stream",
     "text": [
      "1000\n",
      "1000\n",
      "500\n",
      "My income per month is  1500\n"
     ]
    }
   ],
   "source": [
    "obj = child()\n",
    "obj.income()"
   ]
  },
  {
   "cell_type": "code",
   "execution_count": 49,
   "metadata": {},
   "outputs": [
    {
     "data": {
      "text/plain": [
       "700"
      ]
     },
     "execution_count": 49,
     "metadata": {},
     "output_type": "execute_result"
    }
   ],
   "source": [
    "a = 1000\n",
    "a = 700\n",
    "a"
   ]
  },
  {
   "cell_type": "code",
   "execution_count": null,
   "metadata": {},
   "outputs": [],
   "source": []
  },
  {
   "cell_type": "markdown",
   "metadata": {},
   "source": [
    "# Multilevel Inheritence\n",
    "\n",
    "####  Have grandParent, parent and  child relationship\n",
    "####  When we have a child and grandchild relationship.\n",
    "\n",
    "![](multilevel.jpg)"
   ]
  },
  {
   "cell_type": "code",
   "execution_count": 76,
   "metadata": {},
   "outputs": [],
   "source": [
    "class granny:\n",
    "    def __init__(self):\n",
    "        self.asserts = 100000\n",
    "        \n",
    "class father(granny):\n",
    "    def __init__(self):\n",
    "        granny.__init__(self)\n",
    "        self.job = \"TCS\"\n",
    "        \n",
    "class child(father):\n",
    "    def __init__(self):\n",
    "        father.__init__(self)\n",
    "    def biodata(self):\n",
    "        print(\"My Property is {0} and my job is {1}\".format(self.asserts,self.job))\n",
    "        "
   ]
  },
  {
   "cell_type": "code",
   "execution_count": 77,
   "metadata": {},
   "outputs": [
    {
     "name": "stdout",
     "output_type": "stream",
     "text": [
      "My Property is 100000 and my job is TCS\n"
     ]
    }
   ],
   "source": [
    "obj = child()\n",
    "obj.biodata()"
   ]
  },
  {
   "cell_type": "code",
   "execution_count": null,
   "metadata": {},
   "outputs": [],
   "source": []
  },
  {
   "cell_type": "markdown",
   "metadata": {},
   "source": [
    "# Task\n",
    " * create one superb class and generate OTP\n",
    " * create another super class and generate Code/OTP\n",
    " * create one child and check validation and returns both code and OTP "
   ]
  },
  {
   "cell_type": "code",
   "execution_count": 86,
   "metadata": {},
   "outputs": [
    {
     "name": "stdout",
     "output_type": "stream",
     "text": [
      "857242\n"
     ]
    }
   ],
   "source": [
    "import random as r\n",
    "def OTP():\n",
    "    s = \"\"\n",
    "    for i in range(6):\n",
    "        s += str(r.randint(0,9))\n",
    "    print(s)\n",
    "OTP()"
   ]
  },
  {
   "cell_type": "code",
   "execution_count": 89,
   "metadata": {},
   "outputs": [
    {
     "name": "stdout",
     "output_type": "stream",
     "text": [
      "A OTP is 69258278 & B OTP is 6729\n"
     ]
    }
   ],
   "source": [
    "import random\n",
    "\n",
    "class A:\n",
    "    def __init__(self):\n",
    "        self.otp = random.randint(0,99999999)\n",
    "class B:\n",
    "    def __init__(self):\n",
    "        self.otp = random.randint(0,9999)\n",
    "        \n",
    "class child(A,B):\n",
    "    def __init__(self):\n",
    "        A.__init__(self)\n",
    "        self.otp1 = self.otp\n",
    "        B.__init__(self)\n",
    "        self.otp2 = self.otp\n",
    "        print(\"A OTP is {0} & B OTP is {1}\".format(self.otp1,self.otp2))\n",
    "        \n",
    "obj = child()\n"
   ]
  },
  {
   "cell_type": "code",
   "execution_count": 90,
   "metadata": {},
   "outputs": [],
   "source": [
    "import matplotlib.pyplot as plt"
   ]
  },
  {
   "cell_type": "code",
   "execution_count": 97,
   "metadata": {},
   "outputs": [
    {
     "name": "stderr",
     "output_type": "stream",
     "text": [
      "E:\\conda\\lib\\site-packages\\ipykernel_launcher.py:4: UserWarning: Attempting to set identical left == right == 3 results in singular transformations; automatically expanding.\n",
      "  after removing the cwd from sys.path.\n"
     ]
    },
    {
     "data": {
      "image/png": "[encoded data removed]",
      "text/plain": [
       "<Figure size 432x288 with 1 Axes>"
      ]
     },
     "metadata": {},
     "output_type": "display_data"
    }
   ],
   "source": [
    "l1 = [1,2,3,4]\n",
    "plt.pie(l1,labels = [\"a\",\"v\",\"g\",\"g\"])\n",
    "plt.legend()\n",
    "plt.xlim(3,3)\n",
    "plt.show()"
   ]
  },
  {
   "cell_type": "code",
   "execution_count": 106,
   "metadata": {},
   "outputs": [
    {
     "data": {
      "image/png": "[encoded data removed]",
      "text/plain": [
       "<Figure size 432x288 with 1 Axes>"
      ]
     },
     "metadata": {
      "needs_background": "light"
     },
     "output_type": "display_data"
    }
   ],
   "source": [
    "v1 = [1,2,3,4,5]\n",
    "v2 = [7,3,4,2,2]\n",
    "plt.plot(v1,v2)\n",
    "plt.scatter(v1,v2,color= \"r\")\n",
    "plt.xlim(1,5)\n",
    "plt.show()"
   ]
  },
  {
   "cell_type": "code",
   "execution_count": null,
   "metadata": {},
   "outputs": [],
   "source": []
  }
 ],
 "metadata": {
  "kernelspec": {
   "display_name": "Python 3",
   "language": "python",
   "name": "python3"
  },
  "language_info": {
   "codemirror_mode": {
    "name": "ipython",
    "version": 3
   },
   "file_extension": ".py",
   "mimetype": "text/x-python",
   "name": "python",
   "nbconvert_exporter": "python",
   "pygments_lexer": "ipython3",
   "version": "3.7.3"
  }
 },
 "nbformat": 4,
 "nbformat_minor": 2
}
